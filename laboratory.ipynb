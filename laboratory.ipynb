{
 "cells": [
  {
   "cell_type": "markdown",
   "source": [
    "# 1、实验1\n",
    "\n",
    "这里是希望通过notebook的内存记忆功能，将一些需要跑长时间才能够保存到的中间变量保存下来，方便后续使用\n",
    "目前思路是：\n",
    "\n",
    "    1、将TradingInfo表中所有股票的开始时间和结束时间获取到\n",
    "    2、将该时间更新到StockInfo表中；\n",
    "    3、上述两步为预处理，预处理完成后， 每次更新股票交易信息步骤如下：\n",
    "        3.1 更新StockInfo表，（start_time和end_time留空）\n",
    "        3.2 获取StockInfo表中全部的code，start_time，end_time信息\n",
    "        3.3 如果start_time or end_time为空，那么start_time选20050101，end_time选今天，去获取交易信息，并写入数据库\n",
    "        3.4 如果start_time or end_tiem不为空，那么start_time 为end_time+1,end_time为今天，去获取交易信息，并写入数据库"
   ],
   "metadata": {}
  },
  {
   "cell_type": "code",
   "execution_count": 3,
   "source": [
    "import os\n",
    "import sys\n",
    "\n",
    "mod_path = os.path.abspath('./../dataUpdate/')\n",
    "print(mod_path)\n",
    "sys.path.append('/Users/roland/vscode_program/backtrader_learning/dataUpdate')\n"
   ],
   "outputs": [
    {
     "output_type": "stream",
     "name": "stdout",
     "text": [
      "/Users/roland/vscode_program/dataUpdate\n"
     ]
    }
   ],
   "metadata": {}
  },
  {
   "cell_type": "code",
   "execution_count": 31,
   "source": [
    "from sqlalchemy.orm import Session\n",
    "from dataUpdate import engine\n",
    "from dataUpdate.model.basicinfo import StockBasic\n",
    "from dataUpdate.model.tradingInfo import TradingInfo\n",
    "from dataUpdate.service import updateService\n",
    "import sqlalchemy\n",
    "from sqlalchemy import func\n",
    "import time\n",
    "import pandas as pd \n",
    "from tqdm import tqdm\n"
   ],
   "outputs": [],
   "metadata": {}
  },
  {
   "cell_type": "code",
   "execution_count": 10,
   "source": [
    "sess = Session(engine)"
   ],
   "outputs": [],
   "metadata": {}
  },
  {
   "cell_type": "code",
   "execution_count": 13,
   "source": [
    "# 1、获取全部股票代码\n",
    "sql = sess.query(StockBasic.code)\n",
    "stock_codes = pd.read_sql(sql.statement, sql.session.bind)\n"
   ],
   "outputs": [],
   "metadata": {}
  },
  {
   "cell_type": "code",
   "execution_count": 17,
   "source": [
    "t0 = time.time()\n",
    "sql2 = sess.query(TradingInfo.code, func.min(TradingInfo.time),func.max(TradingInfo.time)). \\\n",
    "    group_by(TradingInfo.code)\n",
    "stock_last_date = pd.read_sql(sql2.statement,sql2.session.bind)\n",
    "t1 = time.time()\n",
    "print(t1-t0)\n",
    "\n"
   ],
   "outputs": [
    {
     "output_type": "stream",
     "name": "stdout",
     "text": [
      "1264.2110788822174\n"
     ]
    }
   ],
   "metadata": {}
  },
  {
   "cell_type": "code",
   "execution_count": 18,
   "source": [
    "stock_last_date.head()"
   ],
   "outputs": [
    {
     "output_type": "execute_result",
     "data": {
      "text/plain": [
       "        code               min_1               max_1\n",
       "0  sh.600000 2005-01-04 10:00:00 2021-09-09 15:00:00\n",
       "1  sh.600004 2005-01-04 10:00:00 2021-09-09 15:00:00\n",
       "2  sh.600006 2005-01-04 10:00:00 2021-09-09 15:00:00\n",
       "3  sh.600007 2005-01-04 10:00:00 2021-09-09 15:00:00\n",
       "4  sh.600008 2005-01-04 10:00:00 2021-09-09 15:00:00"
      ],
      "text/html": [
       "<div>\n",
       "<style scoped>\n",
       "    .dataframe tbody tr th:only-of-type {\n",
       "        vertical-align: middle;\n",
       "    }\n",
       "\n",
       "    .dataframe tbody tr th {\n",
       "        vertical-align: top;\n",
       "    }\n",
       "\n",
       "    .dataframe thead th {\n",
       "        text-align: right;\n",
       "    }\n",
       "</style>\n",
       "<table border=\"1\" class=\"dataframe\">\n",
       "  <thead>\n",
       "    <tr style=\"text-align: right;\">\n",
       "      <th></th>\n",
       "      <th>code</th>\n",
       "      <th>min_1</th>\n",
       "      <th>max_1</th>\n",
       "    </tr>\n",
       "  </thead>\n",
       "  <tbody>\n",
       "    <tr>\n",
       "      <th>0</th>\n",
       "      <td>sh.600000</td>\n",
       "      <td>2005-01-04 10:00:00</td>\n",
       "      <td>2021-09-09 15:00:00</td>\n",
       "    </tr>\n",
       "    <tr>\n",
       "      <th>1</th>\n",
       "      <td>sh.600004</td>\n",
       "      <td>2005-01-04 10:00:00</td>\n",
       "      <td>2021-09-09 15:00:00</td>\n",
       "    </tr>\n",
       "    <tr>\n",
       "      <th>2</th>\n",
       "      <td>sh.600006</td>\n",
       "      <td>2005-01-04 10:00:00</td>\n",
       "      <td>2021-09-09 15:00:00</td>\n",
       "    </tr>\n",
       "    <tr>\n",
       "      <th>3</th>\n",
       "      <td>sh.600007</td>\n",
       "      <td>2005-01-04 10:00:00</td>\n",
       "      <td>2021-09-09 15:00:00</td>\n",
       "    </tr>\n",
       "    <tr>\n",
       "      <th>4</th>\n",
       "      <td>sh.600008</td>\n",
       "      <td>2005-01-04 10:00:00</td>\n",
       "      <td>2021-09-09 15:00:00</td>\n",
       "    </tr>\n",
       "  </tbody>\n",
       "</table>\n",
       "</div>"
      ]
     },
     "metadata": {},
     "execution_count": 18
    }
   ],
   "metadata": {}
  },
  {
   "cell_type": "code",
   "execution_count": 19,
   "source": [
    "all_stocks = sess.query(StockBasic).all()\n"
   ],
   "outputs": [],
   "metadata": {}
  },
  {
   "cell_type": "code",
   "execution_count": 32,
   "source": [
    "for stk in tqdm(all_stocks):\n",
    "    # print(stk.code)\n",
    "    try:\n",
    "        temp_res  = stock_last_date[stock_last_date['code']==stk.code]\n",
    "        start,end = temp_res['min_1'].item(),temp_res['max_1'].item()\n",
    "        stk.start_time=start\n",
    "        stk.end_time = end\n",
    "    except Exception as e:\n",
    "        print(e)\n",
    "        print(stk.code)\n",
    "        print(temp_res)\n",
    "        print(\"*\"*10)\n",
    "sess.commit()\n"
   ],
   "outputs": [
    {
     "output_type": "stream",
     "name": "stderr",
     "text": [
      " 17%|█▋        | 756/4476 [00:00<00:03, 1058.80it/s]\n"
     ]
    },
    {
     "output_type": "error",
     "ename": "ValueError",
     "evalue": "can only convert an array of size 1 to a Python scalar",
     "traceback": [
      "\u001b[0;31m---------------------------------------------------------------------------\u001b[0m",
      "\u001b[0;31mValueError\u001b[0m                                Traceback (most recent call last)",
      "\u001b[0;32m<ipython-input-32-3a866a54837b>\u001b[0m in \u001b[0;36m<module>\u001b[0;34m\u001b[0m\n\u001b[1;32m      2\u001b[0m     \u001b[0;31m# print(stk.code)\u001b[0m\u001b[0;34m\u001b[0m\u001b[0;34m\u001b[0m\u001b[0;34m\u001b[0m\u001b[0m\n\u001b[1;32m      3\u001b[0m     \u001b[0mtemp_res\u001b[0m  \u001b[0;34m=\u001b[0m \u001b[0mstock_last_date\u001b[0m\u001b[0;34m[\u001b[0m\u001b[0mstock_last_date\u001b[0m\u001b[0;34m[\u001b[0m\u001b[0;34m'code'\u001b[0m\u001b[0;34m]\u001b[0m\u001b[0;34m==\u001b[0m\u001b[0mstk\u001b[0m\u001b[0;34m.\u001b[0m\u001b[0mcode\u001b[0m\u001b[0;34m]\u001b[0m\u001b[0;34m\u001b[0m\u001b[0;34m\u001b[0m\u001b[0m\n\u001b[0;32m----> 4\u001b[0;31m     \u001b[0mstart\u001b[0m\u001b[0;34m,\u001b[0m\u001b[0mend\u001b[0m \u001b[0;34m=\u001b[0m \u001b[0mtemp_res\u001b[0m\u001b[0;34m[\u001b[0m\u001b[0;34m'min_1'\u001b[0m\u001b[0;34m]\u001b[0m\u001b[0;34m.\u001b[0m\u001b[0mitem\u001b[0m\u001b[0;34m(\u001b[0m\u001b[0;34m)\u001b[0m\u001b[0;34m,\u001b[0m\u001b[0mtemp_res\u001b[0m\u001b[0;34m[\u001b[0m\u001b[0;34m'max_1'\u001b[0m\u001b[0;34m]\u001b[0m\u001b[0;34m.\u001b[0m\u001b[0mitem\u001b[0m\u001b[0;34m(\u001b[0m\u001b[0;34m)\u001b[0m\u001b[0;34m\u001b[0m\u001b[0;34m\u001b[0m\u001b[0m\n\u001b[0m\u001b[1;32m      5\u001b[0m     \u001b[0mstk\u001b[0m\u001b[0;34m.\u001b[0m\u001b[0mstart_time\u001b[0m\u001b[0;34m=\u001b[0m\u001b[0mstart\u001b[0m\u001b[0;34m\u001b[0m\u001b[0;34m\u001b[0m\u001b[0m\n\u001b[1;32m      6\u001b[0m     \u001b[0mstk\u001b[0m\u001b[0;34m.\u001b[0m\u001b[0mend_time\u001b[0m \u001b[0;34m=\u001b[0m \u001b[0mend\u001b[0m\u001b[0;34m\u001b[0m\u001b[0;34m\u001b[0m\u001b[0m\n",
      "\u001b[0;32m~/anaconda3/envs/py374/lib/python3.7/site-packages/pandas/core/base.py\u001b[0m in \u001b[0;36mitem\u001b[0;34m(self)\u001b[0m\n\u001b[1;32m    418\u001b[0m         \u001b[0;32mif\u001b[0m \u001b[0mlen\u001b[0m\u001b[0;34m(\u001b[0m\u001b[0mself\u001b[0m\u001b[0;34m)\u001b[0m \u001b[0;34m==\u001b[0m \u001b[0;36m1\u001b[0m\u001b[0;34m:\u001b[0m\u001b[0;34m\u001b[0m\u001b[0;34m\u001b[0m\u001b[0m\n\u001b[1;32m    419\u001b[0m             \u001b[0;32mreturn\u001b[0m \u001b[0mnext\u001b[0m\u001b[0;34m(\u001b[0m\u001b[0miter\u001b[0m\u001b[0;34m(\u001b[0m\u001b[0mself\u001b[0m\u001b[0;34m)\u001b[0m\u001b[0;34m)\u001b[0m\u001b[0;34m\u001b[0m\u001b[0;34m\u001b[0m\u001b[0m\n\u001b[0;32m--> 420\u001b[0;31m         \u001b[0;32mraise\u001b[0m \u001b[0mValueError\u001b[0m\u001b[0;34m(\u001b[0m\u001b[0;34m\"can only convert an array of size 1 to a Python scalar\"\u001b[0m\u001b[0;34m)\u001b[0m\u001b[0;34m\u001b[0m\u001b[0;34m\u001b[0m\u001b[0m\n\u001b[0m\u001b[1;32m    421\u001b[0m \u001b[0;34m\u001b[0m\u001b[0m\n\u001b[1;32m    422\u001b[0m     \u001b[0;34m@\u001b[0m\u001b[0mproperty\u001b[0m\u001b[0;34m\u001b[0m\u001b[0;34m\u001b[0m\u001b[0m\n",
      "\u001b[0;31mValueError\u001b[0m: can only convert an array of size 1 to a Python scalar"
     ]
    }
   ],
   "metadata": {}
  },
  {
   "cell_type": "markdown",
   "source": [
    "# 2、实验2 \n",
    "\n",
    "    done 1、验证尝akshare上的业绩快报信息 \n",
    "    done 2、akshare的股票code和保存的既有code之间需要转换\n",
    "        2.1 6开头 上交所，0开头，深交所\n",
    "        2.2 002开头，中小板，也是深交所\n",
    "        2.3 3开头 创业板，也是深交所\n",
    "        2.4 688开头，科创板，上交所\n",
    "    done 3、收到的表格名称都是汉字，需要有中英对照表\n",
    "        /Users/roland/vscode_program/backtrader_learning/dataUpdate/util/namedict.json\n",
    "    4、科学计数法的存储办法:\n",
    "        好像也可以不用特别处理\n",
    "    5、完成数据的第一次写入了，但感觉比较蠢，在思考有没有比较好的办法来处理"
   ],
   "metadata": {}
  },
  {
   "cell_type": "code",
   "execution_count": 1,
   "source": [
    "import akshare as ak"
   ],
   "outputs": [],
   "metadata": {}
  },
  {
   "cell_type": "code",
   "execution_count": 2,
   "source": [
    "stock_em_yjbb_df = ak.stock_em_yjbb(date=\"20100331\")\n"
   ],
   "outputs": [
    {
     "output_type": "stream",
     "name": "stderr",
     "text": []
    }
   ],
   "metadata": {}
  },
  {
   "cell_type": "code",
   "execution_count": 3,
   "source": [
    "type(stock_em_yjbb_df)"
   ],
   "outputs": [
    {
     "output_type": "execute_result",
     "data": {
      "text/plain": [
       "pandas.core.frame.DataFrame"
      ]
     },
     "metadata": {},
     "execution_count": 3
    }
   ],
   "metadata": {}
  },
  {
   "cell_type": "code",
   "execution_count": 4,
   "source": [
    "stock_em_yjbb_df.head()"
   ],
   "outputs": [
    {
     "output_type": "execute_result",
     "data": {
      "text/plain": [
       "   序号    股票代码  股票简称    每股收益     营业收入-营业收入   营业收入-同比增长  营业收入-季度环比增长  \\\n",
       "0   1  000617  中油资本 -0.0400  3.046625e+08   10.749529     -47.6992   \n",
       "1   2  000757  浩物股份 -0.0800  1.319204e+08  101.189055      16.3653   \n",
       "2   3  301041   金百泽     NaN  7.030412e+07         NaN          NaN   \n",
       "3   4  600580  卧龙电驱  0.1246  6.553249e+08   34.890407       7.8431   \n",
       "4   5  002602  世纪华通  0.3100  1.972297e+08         NaN          NaN   \n",
       "\n",
       "       净利润-净利润    净利润-同比增长  净利润-季度环比增长     每股净资产  净资产收益率  每股经营现金流量      销售毛利率  \\\n",
       "0 -10572685.25 -134.422353   -231.3498  2.870065   -1.27 -0.100000   3.111316   \n",
       "1 -25948235.48   16.468424   -146.0735 -2.952115    0.00 -0.042300  12.714494   \n",
       "2   4112270.94         NaN         NaN  3.743231     NaN -0.169109  15.906955   \n",
       "3  46186436.17   42.922703    -10.3024  3.430000    3.62 -0.160000  20.376400   \n",
       "4  39728737.60         NaN         NaN       NaN    0.00 -0.030000  34.455695   \n",
       "\n",
       "   所处行业               最新公告日期  \n",
       "0  多元金融  2012-09-14 00:00:00  \n",
       "1  汽车行业  2012-09-13 00:00:00  \n",
       "2  电子元件  2012-05-22 00:00:00  \n",
       "3  输配电气  2012-04-07 00:00:00  \n",
       "4  电子信息  2011-07-27 00:00:00  "
      ],
      "text/html": [
       "<div>\n",
       "<style scoped>\n",
       "    .dataframe tbody tr th:only-of-type {\n",
       "        vertical-align: middle;\n",
       "    }\n",
       "\n",
       "    .dataframe tbody tr th {\n",
       "        vertical-align: top;\n",
       "    }\n",
       "\n",
       "    .dataframe thead th {\n",
       "        text-align: right;\n",
       "    }\n",
       "</style>\n",
       "<table border=\"1\" class=\"dataframe\">\n",
       "  <thead>\n",
       "    <tr style=\"text-align: right;\">\n",
       "      <th></th>\n",
       "      <th>序号</th>\n",
       "      <th>股票代码</th>\n",
       "      <th>股票简称</th>\n",
       "      <th>每股收益</th>\n",
       "      <th>营业收入-营业收入</th>\n",
       "      <th>营业收入-同比增长</th>\n",
       "      <th>营业收入-季度环比增长</th>\n",
       "      <th>净利润-净利润</th>\n",
       "      <th>净利润-同比增长</th>\n",
       "      <th>净利润-季度环比增长</th>\n",
       "      <th>每股净资产</th>\n",
       "      <th>净资产收益率</th>\n",
       "      <th>每股经营现金流量</th>\n",
       "      <th>销售毛利率</th>\n",
       "      <th>所处行业</th>\n",
       "      <th>最新公告日期</th>\n",
       "    </tr>\n",
       "  </thead>\n",
       "  <tbody>\n",
       "    <tr>\n",
       "      <th>0</th>\n",
       "      <td>1</td>\n",
       "      <td>000617</td>\n",
       "      <td>中油资本</td>\n",
       "      <td>-0.0400</td>\n",
       "      <td>3.046625e+08</td>\n",
       "      <td>10.749529</td>\n",
       "      <td>-47.6992</td>\n",
       "      <td>-10572685.25</td>\n",
       "      <td>-134.422353</td>\n",
       "      <td>-231.3498</td>\n",
       "      <td>2.870065</td>\n",
       "      <td>-1.27</td>\n",
       "      <td>-0.100000</td>\n",
       "      <td>3.111316</td>\n",
       "      <td>多元金融</td>\n",
       "      <td>2012-09-14 00:00:00</td>\n",
       "    </tr>\n",
       "    <tr>\n",
       "      <th>1</th>\n",
       "      <td>2</td>\n",
       "      <td>000757</td>\n",
       "      <td>浩物股份</td>\n",
       "      <td>-0.0800</td>\n",
       "      <td>1.319204e+08</td>\n",
       "      <td>101.189055</td>\n",
       "      <td>16.3653</td>\n",
       "      <td>-25948235.48</td>\n",
       "      <td>16.468424</td>\n",
       "      <td>-146.0735</td>\n",
       "      <td>-2.952115</td>\n",
       "      <td>0.00</td>\n",
       "      <td>-0.042300</td>\n",
       "      <td>12.714494</td>\n",
       "      <td>汽车行业</td>\n",
       "      <td>2012-09-13 00:00:00</td>\n",
       "    </tr>\n",
       "    <tr>\n",
       "      <th>2</th>\n",
       "      <td>3</td>\n",
       "      <td>301041</td>\n",
       "      <td>金百泽</td>\n",
       "      <td>NaN</td>\n",
       "      <td>7.030412e+07</td>\n",
       "      <td>NaN</td>\n",
       "      <td>NaN</td>\n",
       "      <td>4112270.94</td>\n",
       "      <td>NaN</td>\n",
       "      <td>NaN</td>\n",
       "      <td>3.743231</td>\n",
       "      <td>NaN</td>\n",
       "      <td>-0.169109</td>\n",
       "      <td>15.906955</td>\n",
       "      <td>电子元件</td>\n",
       "      <td>2012-05-22 00:00:00</td>\n",
       "    </tr>\n",
       "    <tr>\n",
       "      <th>3</th>\n",
       "      <td>4</td>\n",
       "      <td>600580</td>\n",
       "      <td>卧龙电驱</td>\n",
       "      <td>0.1246</td>\n",
       "      <td>6.553249e+08</td>\n",
       "      <td>34.890407</td>\n",
       "      <td>7.8431</td>\n",
       "      <td>46186436.17</td>\n",
       "      <td>42.922703</td>\n",
       "      <td>-10.3024</td>\n",
       "      <td>3.430000</td>\n",
       "      <td>3.62</td>\n",
       "      <td>-0.160000</td>\n",
       "      <td>20.376400</td>\n",
       "      <td>输配电气</td>\n",
       "      <td>2012-04-07 00:00:00</td>\n",
       "    </tr>\n",
       "    <tr>\n",
       "      <th>4</th>\n",
       "      <td>5</td>\n",
       "      <td>002602</td>\n",
       "      <td>世纪华通</td>\n",
       "      <td>0.3100</td>\n",
       "      <td>1.972297e+08</td>\n",
       "      <td>NaN</td>\n",
       "      <td>NaN</td>\n",
       "      <td>39728737.60</td>\n",
       "      <td>NaN</td>\n",
       "      <td>NaN</td>\n",
       "      <td>NaN</td>\n",
       "      <td>0.00</td>\n",
       "      <td>-0.030000</td>\n",
       "      <td>34.455695</td>\n",
       "      <td>电子信息</td>\n",
       "      <td>2011-07-27 00:00:00</td>\n",
       "    </tr>\n",
       "  </tbody>\n",
       "</table>\n",
       "</div>"
      ]
     },
     "metadata": {},
     "execution_count": 4
    }
   ],
   "metadata": {}
  },
  {
   "cell_type": "code",
   "execution_count": 5,
   "source": [
    "stock_em_yjbb_df.shape"
   ],
   "outputs": [
    {
     "output_type": "execute_result",
     "data": {
      "text/plain": [
       "(2319, 16)"
      ]
     },
     "metadata": {},
     "execution_count": 5
    }
   ],
   "metadata": {}
  },
  {
   "cell_type": "code",
   "execution_count": 12,
   "source": [
    "stock_em_yjbb_df2 = ak.stock_em_yjbb(date=\"20200331\")\n",
    "\n"
   ],
   "outputs": [
    {
     "output_type": "stream",
     "name": "stderr",
     "text": []
    }
   ],
   "metadata": {}
  },
  {
   "cell_type": "code",
   "execution_count": 13,
   "source": [
    "stock_em_yjbb_df2.rename(columns={\n",
    "  \"股票代码\":\"code\",\n",
    "  \"股票简称\":\"name\",\n",
    "  \"每股收益\":\"earning_per_share\",\n",
    "  \"营业收入-营业收入\":\"revenue\",\n",
    "  \"营业收入-同比增长\":\"revenue_yoy_rise\",\n",
    "  \"营业收入-季度环比增长\":\"revenue_sos_rise\",\n",
    "  \"净利润-净利润\":\"net_profit\",\n",
    "  \"净利润-同比增长\":\"net_profit_yoy_rise\",\n",
    "  \"净利润-季度环比增长\":\"net_profit_sos_rise\",\n",
    "  \"每股净资产\":\"net_asset_value_per_share\",\n",
    "  \"净资产收益率\":\"return_on_equity\",\n",
    "  \"每股经营现金流量\":\"operating_cash_flow_per_share\",\n",
    "  \"销售毛利率\":\"gross_profit_ratio\",\n",
    "  \"所处行业\":\"industry\",\n",
    "  \"最新公告日期\":\"date\"\n",
    "},inplace=True)"
   ],
   "outputs": [],
   "metadata": {}
  },
  {
   "cell_type": "code",
   "execution_count": 14,
   "source": [
    "stock_em_yjbb_df2.columns"
   ],
   "outputs": [
    {
     "output_type": "execute_result",
     "data": {
      "text/plain": [
       "Index(['序号', 'code', 'name', 'earning_per_share', 'revenue',\n",
       "       'revenue_yoy_rise', 'revenue_sos_rise', 'net_profit',\n",
       "       'net_profit_yoy_rise', 'net_profit_sos_rise',\n",
       "       'net_asset_value_per_share', 'return_on_equity',\n",
       "       'operating_cash_flow_per_share', 'gross_profit_ratio', 'industry',\n",
       "       'date'],\n",
       "      dtype='object')"
      ]
     },
     "metadata": {},
     "execution_count": 14
    }
   ],
   "metadata": {}
  },
  {
   "cell_type": "code",
   "execution_count": 15,
   "source": [
    "stock_em_yjbb_df2.head()"
   ],
   "outputs": [
    {
     "output_type": "execute_result",
     "data": {
      "text/plain": [
       "   序号    code   name  earning_per_share       revenue  revenue_yoy_rise  \\\n",
       "0   1  430564   天润科技            -0.0700  1.126686e+07               NaN   \n",
       "1   2  872967   蓉中电气             0.0300  2.505979e+07               NaN   \n",
       "2   3  000752  *ST西发            -0.0900  4.647864e+07        -34.759410   \n",
       "3   4  603766   隆鑫通用             0.0517  1.555182e+09        -29.446706   \n",
       "4   5  400059    天珑5             0.0400  1.384542e+09         15.000000   \n",
       "\n",
       "   revenue_sos_rise    net_profit  net_profit_yoy_rise  net_profit_sos_rise  \\\n",
       "0               NaN -2.911283e+06                  NaN                  NaN   \n",
       "1          -71.0354  1.710819e+06                  NaN             -64.2536   \n",
       "2          -45.5438 -2.290606e+07                 4.77              91.7905   \n",
       "3          -48.0266  1.061947e+08               -47.41            1205.4320   \n",
       "4          -53.2368  6.872490e+07                22.81             364.4805   \n",
       "\n",
       "   net_asset_value_per_share  return_on_equity  operating_cash_flow_per_share  \\\n",
       "0                        NaN             -3.58                            NaN   \n",
       "1                        NaN              2.02                            NaN   \n",
       "2                   0.047763            -95.24                      -0.052915   \n",
       "3                   3.426357              1.52                      -0.122235   \n",
       "4                   1.471624              2.51                       0.171434   \n",
       "\n",
       "   gross_profit_ratio industry                 date  \n",
       "0           23.325943     None  2021-09-08 00:00:00  \n",
       "1           22.783039     None  2021-09-07 00:00:00  \n",
       "2           17.168526     酿酒行业  2021-09-01 00:00:00  \n",
       "3           16.278215     机械行业  2021-08-31 00:00:00  \n",
       "4           16.427678     None  2021-08-31 00:00:00  "
      ],
      "text/html": [
       "<div>\n",
       "<style scoped>\n",
       "    .dataframe tbody tr th:only-of-type {\n",
       "        vertical-align: middle;\n",
       "    }\n",
       "\n",
       "    .dataframe tbody tr th {\n",
       "        vertical-align: top;\n",
       "    }\n",
       "\n",
       "    .dataframe thead th {\n",
       "        text-align: right;\n",
       "    }\n",
       "</style>\n",
       "<table border=\"1\" class=\"dataframe\">\n",
       "  <thead>\n",
       "    <tr style=\"text-align: right;\">\n",
       "      <th></th>\n",
       "      <th>序号</th>\n",
       "      <th>code</th>\n",
       "      <th>name</th>\n",
       "      <th>earning_per_share</th>\n",
       "      <th>revenue</th>\n",
       "      <th>revenue_yoy_rise</th>\n",
       "      <th>revenue_sos_rise</th>\n",
       "      <th>net_profit</th>\n",
       "      <th>net_profit_yoy_rise</th>\n",
       "      <th>net_profit_sos_rise</th>\n",
       "      <th>net_asset_value_per_share</th>\n",
       "      <th>return_on_equity</th>\n",
       "      <th>operating_cash_flow_per_share</th>\n",
       "      <th>gross_profit_ratio</th>\n",
       "      <th>industry</th>\n",
       "      <th>date</th>\n",
       "    </tr>\n",
       "  </thead>\n",
       "  <tbody>\n",
       "    <tr>\n",
       "      <th>0</th>\n",
       "      <td>1</td>\n",
       "      <td>430564</td>\n",
       "      <td>天润科技</td>\n",
       "      <td>-0.0700</td>\n",
       "      <td>1.126686e+07</td>\n",
       "      <td>NaN</td>\n",
       "      <td>NaN</td>\n",
       "      <td>-2.911283e+06</td>\n",
       "      <td>NaN</td>\n",
       "      <td>NaN</td>\n",
       "      <td>NaN</td>\n",
       "      <td>-3.58</td>\n",
       "      <td>NaN</td>\n",
       "      <td>23.325943</td>\n",
       "      <td>None</td>\n",
       "      <td>2021-09-08 00:00:00</td>\n",
       "    </tr>\n",
       "    <tr>\n",
       "      <th>1</th>\n",
       "      <td>2</td>\n",
       "      <td>872967</td>\n",
       "      <td>蓉中电气</td>\n",
       "      <td>0.0300</td>\n",
       "      <td>2.505979e+07</td>\n",
       "      <td>NaN</td>\n",
       "      <td>-71.0354</td>\n",
       "      <td>1.710819e+06</td>\n",
       "      <td>NaN</td>\n",
       "      <td>-64.2536</td>\n",
       "      <td>NaN</td>\n",
       "      <td>2.02</td>\n",
       "      <td>NaN</td>\n",
       "      <td>22.783039</td>\n",
       "      <td>None</td>\n",
       "      <td>2021-09-07 00:00:00</td>\n",
       "    </tr>\n",
       "    <tr>\n",
       "      <th>2</th>\n",
       "      <td>3</td>\n",
       "      <td>000752</td>\n",
       "      <td>*ST西发</td>\n",
       "      <td>-0.0900</td>\n",
       "      <td>4.647864e+07</td>\n",
       "      <td>-34.759410</td>\n",
       "      <td>-45.5438</td>\n",
       "      <td>-2.290606e+07</td>\n",
       "      <td>4.77</td>\n",
       "      <td>91.7905</td>\n",
       "      <td>0.047763</td>\n",
       "      <td>-95.24</td>\n",
       "      <td>-0.052915</td>\n",
       "      <td>17.168526</td>\n",
       "      <td>酿酒行业</td>\n",
       "      <td>2021-09-01 00:00:00</td>\n",
       "    </tr>\n",
       "    <tr>\n",
       "      <th>3</th>\n",
       "      <td>4</td>\n",
       "      <td>603766</td>\n",
       "      <td>隆鑫通用</td>\n",
       "      <td>0.0517</td>\n",
       "      <td>1.555182e+09</td>\n",
       "      <td>-29.446706</td>\n",
       "      <td>-48.0266</td>\n",
       "      <td>1.061947e+08</td>\n",
       "      <td>-47.41</td>\n",
       "      <td>1205.4320</td>\n",
       "      <td>3.426357</td>\n",
       "      <td>1.52</td>\n",
       "      <td>-0.122235</td>\n",
       "      <td>16.278215</td>\n",
       "      <td>机械行业</td>\n",
       "      <td>2021-08-31 00:00:00</td>\n",
       "    </tr>\n",
       "    <tr>\n",
       "      <th>4</th>\n",
       "      <td>5</td>\n",
       "      <td>400059</td>\n",
       "      <td>天珑5</td>\n",
       "      <td>0.0400</td>\n",
       "      <td>1.384542e+09</td>\n",
       "      <td>15.000000</td>\n",
       "      <td>-53.2368</td>\n",
       "      <td>6.872490e+07</td>\n",
       "      <td>22.81</td>\n",
       "      <td>364.4805</td>\n",
       "      <td>1.471624</td>\n",
       "      <td>2.51</td>\n",
       "      <td>0.171434</td>\n",
       "      <td>16.427678</td>\n",
       "      <td>None</td>\n",
       "      <td>2021-08-31 00:00:00</td>\n",
       "    </tr>\n",
       "  </tbody>\n",
       "</table>\n",
       "</div>"
      ]
     },
     "metadata": {},
     "execution_count": 15
    }
   ],
   "metadata": {}
  },
  {
   "cell_type": "code",
   "execution_count": 21,
   "source": [
    "type(stock_em_yjbb_df2.iloc[0]['revenue'].item())"
   ],
   "outputs": [
    {
     "output_type": "execute_result",
     "data": {
      "text/plain": [
       "float"
      ]
     },
     "metadata": {},
     "execution_count": 21
    }
   ],
   "metadata": {}
  },
  {
   "cell_type": "code",
   "execution_count": 22,
   "source": [
    "stock_em_yjbb_df2.iloc[0]['revenue'].item()"
   ],
   "outputs": [
    {
     "output_type": "execute_result",
     "data": {
      "text/plain": [
       "11266863.63"
      ]
     },
     "metadata": {},
     "execution_count": 22
    }
   ],
   "metadata": {}
  },
  {
   "cell_type": "code",
   "execution_count": 23,
   "source": [
    "import datetime\n",
    "\n",
    "a = datetime.datetime.now()\n",
    "a"
   ],
   "outputs": [
    {
     "output_type": "execute_result",
     "data": {
      "text/plain": [
       "datetime.datetime(2021, 9, 13, 14, 11, 26, 113499)"
      ]
     },
     "metadata": {},
     "execution_count": 23
    }
   ],
   "metadata": {}
  },
  {
   "cell_type": "code",
   "execution_count": 25,
   "source": [
    "a.year"
   ],
   "outputs": [
    {
     "output_type": "execute_result",
     "data": {
      "text/plain": [
       "2021"
      ]
     },
     "metadata": {},
     "execution_count": 25
    }
   ],
   "metadata": {}
  },
  {
   "cell_type": "code",
   "execution_count": 26,
   "source": [
    "\n"
   ],
   "outputs": [
    {
     "output_type": "stream",
     "name": "stdout",
     "text": [
      "0 13\n",
      "0 14\n",
      "0 15\n",
      "1 13\n",
      "1 14\n",
      "1 15\n",
      "2 13\n",
      "2 14\n",
      "2 15\n",
      "3 13\n",
      "3 14\n",
      "3 15\n",
      "4 13\n",
      "4 14\n",
      "4 15\n"
     ]
    }
   ],
   "metadata": {}
  },
  {
   "cell_type": "code",
   "execution_count": 1,
   "source": [
    "from sqlalchemy.orm import Session\n",
    "from dataUpdate import engine\n",
    "import pandas as pd\n"
   ],
   "outputs": [],
   "metadata": {}
  },
  {
   "cell_type": "code",
   "execution_count": 2,
   "source": [
    "from dataUpdate.model.basicinfo import StockEarningReport\n",
    "sess = Session(engine)\n"
   ],
   "outputs": [],
   "metadata": {}
  },
  {
   "cell_type": "code",
   "execution_count": 3,
   "source": [
    "sql1 = sess.query(StockEarningReport).filter(StockEarningReport.code=='601919')\n",
    "res_df = pd.read_sql(sql1.statement,sql1.session.bind)"
   ],
   "outputs": [],
   "metadata": {}
  },
  {
   "cell_type": "code",
   "execution_count": 4,
   "source": [
    "res_df.sort_values(by='time',inplace=True)"
   ],
   "outputs": [],
   "metadata": {}
  },
  {
   "cell_type": "code",
   "execution_count": 5,
   "source": [
    "99+38+11+2.9"
   ],
   "outputs": [
    {
     "output_type": "execute_result",
     "data": {
      "text/plain": [
       "150.9"
      ]
     },
     "metadata": {},
     "execution_count": 5
    }
   ],
   "metadata": {}
  },
  {
   "cell_type": "code",
   "execution_count": 6,
   "source": [
    "res_df.tail(10)"
   ],
   "outputs": [
    {
     "output_type": "execute_result",
     "data": {
      "text/plain": [
       "       id    code  earning_per_share       revenue  revenue_yoy_rise  \\\n",
       "36    544  601919               0.06  3.507510e+10         59.989552   \n",
       "37   1063  601919               0.10  7.210116e+10         59.957480   \n",
       "38    366  601919               0.18  1.116173e+11         35.903076   \n",
       "39  10131  601919               0.56  1.510567e+11         25.016363   \n",
       "40    533  601919               0.02  3.610890e+10          2.947390   \n",
       "41    446  601919               0.07  7.405293e+10          2.706986   \n",
       "42    423  601919               0.31  1.177087e+11          5.457442   \n",
       "43  10130  601919               0.81  1.712588e+11         13.373888   \n",
       "44    543  601919               1.26  6.484281e+10         79.575722   \n",
       "45    449  601919               2.33  1.392643e+11         88.060550   \n",
       "\n",
       "    revenue_sos_rise    net_profit  net_profit_yoy_rise  net_profit_sos_rise  \\\n",
       "36           -9.3654  6.873561e+08           280.021537              87.0660   \n",
       "37            5.5623  1.237231e+09          2932.759557             -20.0014   \n",
       "38            6.7252  2.116274e+09           145.340631              59.8621   \n",
       "39           -0.1942  6.764105e+09           449.920000             428.7379   \n",
       "40           -8.4446  2.915195e+08           -57.590000             -93.7278   \n",
       "41            5.0822  1.137164e+09            -8.090000             190.0816   \n",
       "42           15.0531  3.860160e+09            82.400000             222.0024   \n",
       "43           22.6643  9.927098e+09            46.760000             122.8038   \n",
       "44           21.0881  1.545233e+10          5200.620000             154.6973   \n",
       "45           14.7722  3.709784e+10          3162.310000              40.0793   \n",
       "\n",
       "    return_on_equity  operating_cash_flow_per_share  gross_profit_ratio  \\\n",
       "36              2.62                       0.333814           11.176304   \n",
       "37              4.41                       0.772202           10.913706   \n",
       "38              7.31                       1.223705           10.927168   \n",
       "39             21.57                       1.729460           10.742339   \n",
       "40              0.82                       0.125133            8.907631   \n",
       "41              3.15                       0.932963            9.349992   \n",
       "42             10.38                       1.854359           11.509933   \n",
       "43             25.05                       3.673106           14.208792   \n",
       "44             29.89                       2.200588           33.208635   \n",
       "45             59.65                       5.187370           38.240002   \n",
       "\n",
       "         time  \n",
       "36 2019-03-31  \n",
       "37 2019-06-30  \n",
       "38 2019-09-30  \n",
       "39 2019-12-31  \n",
       "40 2020-03-31  \n",
       "41 2020-06-30  \n",
       "42 2020-09-30  \n",
       "43 2020-12-31  \n",
       "44 2021-03-31  \n",
       "45 2021-06-30  "
      ],
      "text/html": [
       "<div>\n",
       "<style scoped>\n",
       "    .dataframe tbody tr th:only-of-type {\n",
       "        vertical-align: middle;\n",
       "    }\n",
       "\n",
       "    .dataframe tbody tr th {\n",
       "        vertical-align: top;\n",
       "    }\n",
       "\n",
       "    .dataframe thead th {\n",
       "        text-align: right;\n",
       "    }\n",
       "</style>\n",
       "<table border=\"1\" class=\"dataframe\">\n",
       "  <thead>\n",
       "    <tr style=\"text-align: right;\">\n",
       "      <th></th>\n",
       "      <th>id</th>\n",
       "      <th>code</th>\n",
       "      <th>earning_per_share</th>\n",
       "      <th>revenue</th>\n",
       "      <th>revenue_yoy_rise</th>\n",
       "      <th>revenue_sos_rise</th>\n",
       "      <th>net_profit</th>\n",
       "      <th>net_profit_yoy_rise</th>\n",
       "      <th>net_profit_sos_rise</th>\n",
       "      <th>return_on_equity</th>\n",
       "      <th>operating_cash_flow_per_share</th>\n",
       "      <th>gross_profit_ratio</th>\n",
       "      <th>time</th>\n",
       "    </tr>\n",
       "  </thead>\n",
       "  <tbody>\n",
       "    <tr>\n",
       "      <th>36</th>\n",
       "      <td>544</td>\n",
       "      <td>601919</td>\n",
       "      <td>0.06</td>\n",
       "      <td>3.507510e+10</td>\n",
       "      <td>59.989552</td>\n",
       "      <td>-9.3654</td>\n",
       "      <td>6.873561e+08</td>\n",
       "      <td>280.021537</td>\n",
       "      <td>87.0660</td>\n",
       "      <td>2.62</td>\n",
       "      <td>0.333814</td>\n",
       "      <td>11.176304</td>\n",
       "      <td>2019-03-31</td>\n",
       "    </tr>\n",
       "    <tr>\n",
       "      <th>37</th>\n",
       "      <td>1063</td>\n",
       "      <td>601919</td>\n",
       "      <td>0.10</td>\n",
       "      <td>7.210116e+10</td>\n",
       "      <td>59.957480</td>\n",
       "      <td>5.5623</td>\n",
       "      <td>1.237231e+09</td>\n",
       "      <td>2932.759557</td>\n",
       "      <td>-20.0014</td>\n",
       "      <td>4.41</td>\n",
       "      <td>0.772202</td>\n",
       "      <td>10.913706</td>\n",
       "      <td>2019-06-30</td>\n",
       "    </tr>\n",
       "    <tr>\n",
       "      <th>38</th>\n",
       "      <td>366</td>\n",
       "      <td>601919</td>\n",
       "      <td>0.18</td>\n",
       "      <td>1.116173e+11</td>\n",
       "      <td>35.903076</td>\n",
       "      <td>6.7252</td>\n",
       "      <td>2.116274e+09</td>\n",
       "      <td>145.340631</td>\n",
       "      <td>59.8621</td>\n",
       "      <td>7.31</td>\n",
       "      <td>1.223705</td>\n",
       "      <td>10.927168</td>\n",
       "      <td>2019-09-30</td>\n",
       "    </tr>\n",
       "    <tr>\n",
       "      <th>39</th>\n",
       "      <td>10131</td>\n",
       "      <td>601919</td>\n",
       "      <td>0.56</td>\n",
       "      <td>1.510567e+11</td>\n",
       "      <td>25.016363</td>\n",
       "      <td>-0.1942</td>\n",
       "      <td>6.764105e+09</td>\n",
       "      <td>449.920000</td>\n",
       "      <td>428.7379</td>\n",
       "      <td>21.57</td>\n",
       "      <td>1.729460</td>\n",
       "      <td>10.742339</td>\n",
       "      <td>2019-12-31</td>\n",
       "    </tr>\n",
       "    <tr>\n",
       "      <th>40</th>\n",
       "      <td>533</td>\n",
       "      <td>601919</td>\n",
       "      <td>0.02</td>\n",
       "      <td>3.610890e+10</td>\n",
       "      <td>2.947390</td>\n",
       "      <td>-8.4446</td>\n",
       "      <td>2.915195e+08</td>\n",
       "      <td>-57.590000</td>\n",
       "      <td>-93.7278</td>\n",
       "      <td>0.82</td>\n",
       "      <td>0.125133</td>\n",
       "      <td>8.907631</td>\n",
       "      <td>2020-03-31</td>\n",
       "    </tr>\n",
       "    <tr>\n",
       "      <th>41</th>\n",
       "      <td>446</td>\n",
       "      <td>601919</td>\n",
       "      <td>0.07</td>\n",
       "      <td>7.405293e+10</td>\n",
       "      <td>2.706986</td>\n",
       "      <td>5.0822</td>\n",
       "      <td>1.137164e+09</td>\n",
       "      <td>-8.090000</td>\n",
       "      <td>190.0816</td>\n",
       "      <td>3.15</td>\n",
       "      <td>0.932963</td>\n",
       "      <td>9.349992</td>\n",
       "      <td>2020-06-30</td>\n",
       "    </tr>\n",
       "    <tr>\n",
       "      <th>42</th>\n",
       "      <td>423</td>\n",
       "      <td>601919</td>\n",
       "      <td>0.31</td>\n",
       "      <td>1.177087e+11</td>\n",
       "      <td>5.457442</td>\n",
       "      <td>15.0531</td>\n",
       "      <td>3.860160e+09</td>\n",
       "      <td>82.400000</td>\n",
       "      <td>222.0024</td>\n",
       "      <td>10.38</td>\n",
       "      <td>1.854359</td>\n",
       "      <td>11.509933</td>\n",
       "      <td>2020-09-30</td>\n",
       "    </tr>\n",
       "    <tr>\n",
       "      <th>43</th>\n",
       "      <td>10130</td>\n",
       "      <td>601919</td>\n",
       "      <td>0.81</td>\n",
       "      <td>1.712588e+11</td>\n",
       "      <td>13.373888</td>\n",
       "      <td>22.6643</td>\n",
       "      <td>9.927098e+09</td>\n",
       "      <td>46.760000</td>\n",
       "      <td>122.8038</td>\n",
       "      <td>25.05</td>\n",
       "      <td>3.673106</td>\n",
       "      <td>14.208792</td>\n",
       "      <td>2020-12-31</td>\n",
       "    </tr>\n",
       "    <tr>\n",
       "      <th>44</th>\n",
       "      <td>543</td>\n",
       "      <td>601919</td>\n",
       "      <td>1.26</td>\n",
       "      <td>6.484281e+10</td>\n",
       "      <td>79.575722</td>\n",
       "      <td>21.0881</td>\n",
       "      <td>1.545233e+10</td>\n",
       "      <td>5200.620000</td>\n",
       "      <td>154.6973</td>\n",
       "      <td>29.89</td>\n",
       "      <td>2.200588</td>\n",
       "      <td>33.208635</td>\n",
       "      <td>2021-03-31</td>\n",
       "    </tr>\n",
       "    <tr>\n",
       "      <th>45</th>\n",
       "      <td>449</td>\n",
       "      <td>601919</td>\n",
       "      <td>2.33</td>\n",
       "      <td>1.392643e+11</td>\n",
       "      <td>88.060550</td>\n",
       "      <td>14.7722</td>\n",
       "      <td>3.709784e+10</td>\n",
       "      <td>3162.310000</td>\n",
       "      <td>40.0793</td>\n",
       "      <td>59.65</td>\n",
       "      <td>5.187370</td>\n",
       "      <td>38.240002</td>\n",
       "      <td>2021-06-30</td>\n",
       "    </tr>\n",
       "  </tbody>\n",
       "</table>\n",
       "</div>"
      ]
     },
     "metadata": {},
     "execution_count": 6
    }
   ],
   "metadata": {}
  },
  {
   "cell_type": "code",
   "execution_count": 8,
   "source": [
    "a = pd.DataFrame({\"a\":[1,2,3,5]})\n",
    "a"
   ],
   "outputs": [
    {
     "output_type": "execute_result",
     "data": {
      "text/plain": [
       "   a\n",
       "0  1\n",
       "1  2\n",
       "2  3\n",
       "3  5"
      ],
      "text/html": [
       "<div>\n",
       "<style scoped>\n",
       "    .dataframe tbody tr th:only-of-type {\n",
       "        vertical-align: middle;\n",
       "    }\n",
       "\n",
       "    .dataframe tbody tr th {\n",
       "        vertical-align: top;\n",
       "    }\n",
       "\n",
       "    .dataframe thead th {\n",
       "        text-align: right;\n",
       "    }\n",
       "</style>\n",
       "<table border=\"1\" class=\"dataframe\">\n",
       "  <thead>\n",
       "    <tr style=\"text-align: right;\">\n",
       "      <th></th>\n",
       "      <th>a</th>\n",
       "    </tr>\n",
       "  </thead>\n",
       "  <tbody>\n",
       "    <tr>\n",
       "      <th>0</th>\n",
       "      <td>1</td>\n",
       "    </tr>\n",
       "    <tr>\n",
       "      <th>1</th>\n",
       "      <td>2</td>\n",
       "    </tr>\n",
       "    <tr>\n",
       "      <th>2</th>\n",
       "      <td>3</td>\n",
       "    </tr>\n",
       "    <tr>\n",
       "      <th>3</th>\n",
       "      <td>5</td>\n",
       "    </tr>\n",
       "  </tbody>\n",
       "</table>\n",
       "</div>"
      ]
     },
     "metadata": {},
     "execution_count": 8
    }
   ],
   "metadata": {}
  },
  {
   "cell_type": "code",
   "execution_count": 9,
   "source": [
    "a['a'] = 10"
   ],
   "outputs": [],
   "metadata": {}
  },
  {
   "cell_type": "code",
   "execution_count": 10,
   "source": [
    "a"
   ],
   "outputs": [
    {
     "output_type": "execute_result",
     "data": {
      "text/plain": [
       "    a\n",
       "0  10\n",
       "1  10\n",
       "2  10\n",
       "3  10"
      ],
      "text/html": [
       "<div>\n",
       "<style scoped>\n",
       "    .dataframe tbody tr th:only-of-type {\n",
       "        vertical-align: middle;\n",
       "    }\n",
       "\n",
       "    .dataframe tbody tr th {\n",
       "        vertical-align: top;\n",
       "    }\n",
       "\n",
       "    .dataframe thead th {\n",
       "        text-align: right;\n",
       "    }\n",
       "</style>\n",
       "<table border=\"1\" class=\"dataframe\">\n",
       "  <thead>\n",
       "    <tr style=\"text-align: right;\">\n",
       "      <th></th>\n",
       "      <th>a</th>\n",
       "    </tr>\n",
       "  </thead>\n",
       "  <tbody>\n",
       "    <tr>\n",
       "      <th>0</th>\n",
       "      <td>10</td>\n",
       "    </tr>\n",
       "    <tr>\n",
       "      <th>1</th>\n",
       "      <td>10</td>\n",
       "    </tr>\n",
       "    <tr>\n",
       "      <th>2</th>\n",
       "      <td>10</td>\n",
       "    </tr>\n",
       "    <tr>\n",
       "      <th>3</th>\n",
       "      <td>10</td>\n",
       "    </tr>\n",
       "  </tbody>\n",
       "</table>\n",
       "</div>"
      ]
     },
     "metadata": {},
     "execution_count": 10
    }
   ],
   "metadata": {}
  },
  {
   "cell_type": "code",
   "execution_count": 12,
   "source": [
    "a['b']=1\n",
    "a"
   ],
   "outputs": [
    {
     "output_type": "execute_result",
     "data": {
      "text/plain": [
       "    a  b\n",
       "0  10  1\n",
       "1  10  1\n",
       "2  10  1\n",
       "3  10  1"
      ],
      "text/html": [
       "<div>\n",
       "<style scoped>\n",
       "    .dataframe tbody tr th:only-of-type {\n",
       "        vertical-align: middle;\n",
       "    }\n",
       "\n",
       "    .dataframe tbody tr th {\n",
       "        vertical-align: top;\n",
       "    }\n",
       "\n",
       "    .dataframe thead th {\n",
       "        text-align: right;\n",
       "    }\n",
       "</style>\n",
       "<table border=\"1\" class=\"dataframe\">\n",
       "  <thead>\n",
       "    <tr style=\"text-align: right;\">\n",
       "      <th></th>\n",
       "      <th>a</th>\n",
       "      <th>b</th>\n",
       "    </tr>\n",
       "  </thead>\n",
       "  <tbody>\n",
       "    <tr>\n",
       "      <th>0</th>\n",
       "      <td>10</td>\n",
       "      <td>1</td>\n",
       "    </tr>\n",
       "    <tr>\n",
       "      <th>1</th>\n",
       "      <td>10</td>\n",
       "      <td>1</td>\n",
       "    </tr>\n",
       "    <tr>\n",
       "      <th>2</th>\n",
       "      <td>10</td>\n",
       "      <td>1</td>\n",
       "    </tr>\n",
       "    <tr>\n",
       "      <th>3</th>\n",
       "      <td>10</td>\n",
       "      <td>1</td>\n",
       "    </tr>\n",
       "  </tbody>\n",
       "</table>\n",
       "</div>"
      ]
     },
     "metadata": {},
     "execution_count": 12
    }
   ],
   "metadata": {}
  },
  {
   "cell_type": "code",
   "execution_count": 14,
   "source": [
    "a['b'] = list(range(1,len(a)+1))\n",
    "a"
   ],
   "outputs": [
    {
     "output_type": "execute_result",
     "data": {
      "text/plain": [
       "    a  b\n",
       "0  10  1\n",
       "1  10  2\n",
       "2  10  3\n",
       "3  10  4"
      ],
      "text/html": [
       "<div>\n",
       "<style scoped>\n",
       "    .dataframe tbody tr th:only-of-type {\n",
       "        vertical-align: middle;\n",
       "    }\n",
       "\n",
       "    .dataframe tbody tr th {\n",
       "        vertical-align: top;\n",
       "    }\n",
       "\n",
       "    .dataframe thead th {\n",
       "        text-align: right;\n",
       "    }\n",
       "</style>\n",
       "<table border=\"1\" class=\"dataframe\">\n",
       "  <thead>\n",
       "    <tr style=\"text-align: right;\">\n",
       "      <th></th>\n",
       "      <th>a</th>\n",
       "      <th>b</th>\n",
       "    </tr>\n",
       "  </thead>\n",
       "  <tbody>\n",
       "    <tr>\n",
       "      <th>0</th>\n",
       "      <td>10</td>\n",
       "      <td>1</td>\n",
       "    </tr>\n",
       "    <tr>\n",
       "      <th>1</th>\n",
       "      <td>10</td>\n",
       "      <td>2</td>\n",
       "    </tr>\n",
       "    <tr>\n",
       "      <th>2</th>\n",
       "      <td>10</td>\n",
       "      <td>3</td>\n",
       "    </tr>\n",
       "    <tr>\n",
       "      <th>3</th>\n",
       "      <td>10</td>\n",
       "      <td>4</td>\n",
       "    </tr>\n",
       "  </tbody>\n",
       "</table>\n",
       "</div>"
      ]
     },
     "metadata": {},
     "execution_count": 14
    }
   ],
   "metadata": {}
  },
  {
   "cell_type": "code",
   "execution_count": null,
   "source": [],
   "outputs": [],
   "metadata": {}
  }
 ],
 "metadata": {
  "orig_nbformat": 4,
  "language_info": {
   "name": "python",
   "version": "3.7.4",
   "mimetype": "text/x-python",
   "codemirror_mode": {
    "name": "ipython",
    "version": 3
   },
   "pygments_lexer": "ipython3",
   "nbconvert_exporter": "python",
   "file_extension": ".py"
  },
  "kernelspec": {
   "name": "python3",
   "display_name": "Python 3.7.4 64-bit ('py374': conda)"
  },
  "interpreter": {
   "hash": "97950013533d9f4449d6fd38e2ef499255ef92ff1e14f2f255e6c847df6b9e26"
  }
 },
 "nbformat": 4,
 "nbformat_minor": 2
}